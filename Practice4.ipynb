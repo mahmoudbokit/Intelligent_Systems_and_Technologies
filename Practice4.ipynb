{
 "cells": [
  {
   "cell_type": "code",
   "execution_count": 2,
   "id": "392a6803-faa9-4def-8638-cfa4352fc482",
   "metadata": {},
   "outputs": [],
   "source": [
    "import numpy as np\n",
    "import random\n",
    "import matplotlib.pyplot as plt"
   ]
  },
  {
   "cell_type": "code",
   "execution_count": 4,
   "id": "9562cc91-e5a5-4ea0-b770-52664033f4af",
   "metadata": {},
   "outputs": [],
   "source": [
    "# Конфигурация\n",
    "alpha = 0.1 # Скорость обучения\n",
    "gamma = 0.9  # Коэффициент уменьшения\n",
    "epsilon = 0.05 # Вероятность исследования\n",
    "num_games = 10000  # Количество игр, в которые нужно сыграть\n",
    "board_size = 3  # Размер сетки"
   ]
  },
  {
   "cell_type": "code",
   "execution_count": 6,
   "id": "7751c1b7-391c-402b-b2ef-89126a3546dd",
   "metadata": {},
   "outputs": [],
   "source": [
    "# Инициализация таблицы Q\n",
    "Q_table = {}"
   ]
  },
  {
   "cell_type": "code",
   "execution_count": 8,
   "id": "f17d2137-ed9a-4f77-a0c1-a99126cfa7c9",
   "metadata": {},
   "outputs": [],
   "source": [
    "def initialize_board():\n",
    "    \"\"\"Создать пустую сетку.\"\"\"\n",
    "    return np.zeros((board_size, board_size))"
   ]
  },
  {
   "cell_type": "code",
   "execution_count": 24,
   "id": "75067470-655e-4d68-9fc2-4142a81284c5",
   "metadata": {},
   "outputs": [],
   "source": [
    "def get_state(board):\n",
    "    \"\"\"Преобразует игровое поле в неизменяемое состояние (кортеж) для таблицы Q.\"\"\"\n",
    "    return tuple(board.flatten())"
   ]
  },
  {
   "cell_type": "code",
   "execution_count": 26,
   "id": "8acd7a60-2eed-4d47-a8d5-f456929aafff",
   "metadata": {},
   "outputs": [],
   "source": [
    "def available_moves(state):\n",
    "    \"\"\"Возвращает список доступных ходов, если состояние передано как кортеж.\"\"\"\n",
    "    board = np.array(state).reshape(board_size, board_size)\n",
    "    return [(i, j) for i in range(board_size) for j in range(board_size) if board[i, j] == 0]"
   ]
  },
  {
   "cell_type": "code",
   "execution_count": 28,
   "id": "d446490c-3894-41c3-97e8-e934a59b5e0c",
   "metadata": {},
   "outputs": [],
   "source": [
    "def check_winner(board):\n",
    "    \"\"\"Проверяет, есть ли победитель или ничья.\"\"\"\n",
    "    for i in range(board_size):\n",
    "        if abs(sum(board[i, :])) == board_size:  # Линии\n",
    "            return np.sign(sum(board[i, :]))\n",
    "        if abs(sum(board[:, i])) == board_size:  # Столбы\n",
    "            return np.sign(sum(board[:, i]))\n",
    "    if abs(sum([board[i, i] for i in range(board_size)])) == board_size:  # Главная диагональ\n",
    "        return np.sign(sum([board[i, i] for i in range(board_size)]))\n",
    "    if abs(sum([board[i, board_size - i - 1] for i in range(board_size)])) == board_size:  # Вторичная диагональ\n",
    "        return np.sign(sum([board[i, board_size - i - 1] for i in range(board_size)]))\n",
    "    if not available_moves(board):  # Нет доступных ходов\n",
    "        return 0  # Match nul # Ничья\n",
    "    return None  # Еще не закончено"
   ]
  },
  {
   "cell_type": "code",
   "execution_count": 30,
   "id": "f59400dc-87b2-4f6f-b72e-734597bd1811",
   "metadata": {},
   "outputs": [],
   "source": [
    "def choose_action(state, moves, exploration=True):\n",
    "    \"\"\"Выбор действия с помощью epsilon-greedy.\"\"\"\n",
    "    if exploration and random.uniform(0, 1) < epsilon:\n",
    "        return random.choice(moves)\n",
    "    # В противном случае выберите лучший ход на основе Q\n",
    "    q_values = {move: Q_table.get((state, move), 0.5) for move in moves}\n",
    "    return max(q_values, key=q_values.get)"
   ]
  },
  {
   "cell_type": "code",
   "execution_count": 32,
   "id": "ce4ca911-77c1-4514-9602-ca36f141f96d",
   "metadata": {},
   "outputs": [],
   "source": [
    "def update_Q(state, action, reward, next_state, done):\n",
    "    \"\"\"Обновить таблицу Q.\"\"\"\n",
    "    old_value = Q_table.get((state, action), 0.5)\n",
    "    if done:\n",
    "        next_max = 0  # Нет следующих состояний, если игра завершена\n",
    "    else:\n",
    "        next_max = max([Q_table.get((next_state, a), 0.5) for a in available_moves(next_state)])\n",
    "    Q_table[(state, action)] = old_value + alpha * (reward + gamma * next_max - old_value)"
   ]
  },
  {
   "cell_type": "code",
   "execution_count": 34,
   "id": "7776258e-d80e-4524-b14b-9a4ebfbfadef",
   "metadata": {},
   "outputs": [],
   "source": [
    "def play_game():\n",
    "    \"\"\"Имитация игры в крестики-нолики.\"\"\"\n",
    "    board = initialize_board()\n",
    "    state = get_state(board)\n",
    "    done = False\n",
    "    current_player = 1  # Агент играет первым\n",
    "    reward = 0\n",
    "\n",
    "    while not done:\n",
    "        moves = available_moves(board)\n",
    "        if current_player == 1:  # Обучающийся агент\n",
    "            action = choose_action(state, moves)\n",
    "        else:  # Случайный противник\n",
    "            action = random.choice(moves)\n",
    "\n",
    "        # Выполнить движение\n",
    "        board[action] = current_player\n",
    "        next_state = get_state(board)\n",
    "        winner = check_winner(board)\n",
    "\n",
    "        # Награда и обновление таблицы вопросов\n",
    "        if winner == 1:  # Агент побеждает\n",
    "            reward = 1\n",
    "            done = True\n",
    "        elif winner == -1:  # Побеждает противник\n",
    "            reward = 0\n",
    "            done = True\n",
    "        elif winner == 0:  # Ничья # Match nul\n",
    "            reward = 0.5\n",
    "            done = True\n",
    "        else:\n",
    "            reward = 0  # Еще не закончено\n",
    "\n",
    "        if current_player == 1:  # Обновить Q только для агента\n",
    "            update_Q(state, action, reward, next_state, done)\n",
    "\n",
    "        # Перейти к следующему игроку\n",
    "        state = next_state\n",
    "        current_player *= -1\n",
    "\n",
    "    return reward"
   ]
  },
  {
   "cell_type": "code",
   "execution_count": 36,
   "id": "dd0aa37d-127c-4094-9ca7-aa6db1d7e9aa",
   "metadata": {},
   "outputs": [],
   "source": [
    "# Моделирование сторон\n",
    "rewards = []\n",
    "for game in range(num_games):\n",
    "    reward = play_game()\n",
    "    rewards.append(reward)"
   ]
  },
  {
   "cell_type": "code",
   "execution_count": 38,
   "id": "74f058cb-3d82-4538-bda0-6714331038df",
   "metadata": {},
   "outputs": [],
   "source": [
    "# Расчет среднего совокупного вознаграждения\n",
    "average_rewards = np.cumsum(rewards) / (np.arange(len(rewards)) + 1)"
   ]
  },
  {
   "cell_type": "code",
   "execution_count": 42,
   "id": "3904202f-f6d8-4bbc-b16d-4ae1ea482555",
   "metadata": {},
   "outputs": [
    {
     "data": {
      "image/png": "[encoded data removed]",
      "text/plain": [
       "<Figure size 1000x600 with 1 Axes>"
      ]
     },
     "metadata": {},
     "output_type": "display_data"
    }
   ],
   "source": [
    "# Построить кривую вознаграждения\n",
    "plt.figure(figsize=(10, 6))\n",
    "plt.plot(average_rewards)\n",
    "plt.title(\"Кривая зависимости вознаграждения\")\n",
    "plt.xlabel(\"Количество сторон\")\n",
    "plt.ylabel(\"Среднее совокупное вознаграждение\")\n",
    "plt.grid()\n",
    "plt.show()"
   ]
  },
  {
   "cell_type": "code",
   "execution_count": null,
   "id": "8e1c6ede-87d7-4e57-8b9c-a0d22f38ccd1",
   "metadata": {},
   "outputs": [],
   "source": []
  }
 ],
 "metadata": {
  "kernelspec": {
   "display_name": "Python 3 (ipykernel)",
   "language": "python",
   "name": "python3"
  },
  "language_info": {
   "codemirror_mode": {
    "name": "ipython",
    "version": 3
   },
   "file_extension": ".py",
   "mimetype": "text/x-python",
   "name": "python",
   "nbconvert_exporter": "python",
   "pygments_lexer": "ipython3",
   "version": "3.12.7"
  }
 },
 "nbformat": 4,
 "nbformat_minor": 5
}
