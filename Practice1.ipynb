{
 "cells": [
  {
   "cell_type": "markdown",
   "metadata": {
    "colab_type": "text",
    "id": "view-in-github"
   },
   "source": [
    "<a href=\"https://colab.research.google.com/github/Sentiago22/ISIT2024/blob/main/%D0%98%D0%A1%D0%B8%D0%A2_1.ipynb\" target=\"_parent\"><img src=\"https://colab.research.google.com/assets/colab-badge.svg\" alt=\"Open In Colab\"/></a>"
   ]
  },
  {
   "cell_type": "markdown",
   "metadata": {
    "id": "VV-sSDn1IrVp"
   },
   "source": [
    "**Шаги:**\n",
    "\n",
    "Шаг 1: Загрузка и предварительная обработка данных\n",
    "\n",
    "Шаг 2: Реализация метода K-ближайших соседей (KNN)\n",
    "\n",
    "Шаг 3: Разделение данных на обучающую и тестовую выборки\n",
    "\n",
    "Шаг 4: Оценка модели и поиск оптимального значения k\n",
    "\n",
    "Шаг 5: Построение матрицы ошибок и расчет метрик\n",
    "\n",
    "Шаг 6: Заключение\n"
   ]
  },
  {
   "cell_type": "markdown",
   "metadata": {
    "id": "_ZK5WBFAJRr6"
   },
   "source": [
    "**Шаг 1: Загрузка и предварительная обработка данных**\n",
    "\n",
    "На этом шаге мы загружаем данные, выбираем необходимые столбцы и преобразуем категориальные данные в числовой формат."
   ]
  },
  {
   "cell_type": "code",
   "execution_count": 5,
   "metadata": {
    "colab": {
     "base_uri": "https://localhost:8080/",
     "height": 206
    },
    "id": "jx5jw0h7JUNA",
    "outputId": "b05a0e42-e2b5-480b-ab07-e7413a0038cd"
   },
   "outputs": [],
   "source": [
    "import pandas as pd\n",
    "\n",
    "# Загрузка данных из Excel-файла\n",
    "file_path = 'my_data.xlsx'\n",
    "df = pd.read_excel(file_path)\n"
   ]
  },
  {
   "cell_type": "code",
   "execution_count": 9,
   "metadata": {},
   "outputs": [
    {
     "data": {
      "text/html": [
       "<div>\n",
       "<style scoped>\n",
       "    .dataframe tbody tr th:only-of-type {\n",
       "        vertical-align: middle;\n",
       "    }\n",
       "\n",
       "    .dataframe tbody tr th {\n",
       "        vertical-align: top;\n",
       "    }\n",
       "\n",
       "    .dataframe thead th {\n",
       "        text-align: right;\n",
       "    }\n",
       "</style>\n",
       "<table border=\"1\" class=\"dataframe\">\n",
       "  <thead>\n",
       "    <tr style=\"text-align: right;\">\n",
       "      <th></th>\n",
       "      <th>Ваш пол</th>\n",
       "      <th>Возраст</th>\n",
       "      <th>Характер</th>\n",
       "      <th>Что вы предпочитаете?</th>\n",
       "      <th>Как часто вы берете инициативу в свои руки?</th>\n",
       "      <th>Как часто вы берете инициативу в свои руки? / Баллы</th>\n",
       "      <th>Как часто вы пропускаете завтраки?</th>\n",
       "      <th>Как часто вы пропускаете завтраки? / Баллы</th>\n",
       "      <th>Сколько спите ночью в среднем</th>\n",
       "      <th>Гипертония</th>\n",
       "      <th>...</th>\n",
       "      <th>Любимое время года?</th>\n",
       "      <th>Любимое время года? / Баллы</th>\n",
       "      <th>Что пьют родители</th>\n",
       "      <th>Что пьют родители / Баллы</th>\n",
       "      <th>Какие напитки любите</th>\n",
       "      <th>Какие напитки любите / Баллы</th>\n",
       "      <th>Азартен?</th>\n",
       "      <th>Набрано баллов</th>\n",
       "      <th>Всего баллов</th>\n",
       "      <th>Результат теста</th>\n",
       "    </tr>\n",
       "  </thead>\n",
       "  <tbody>\n",
       "    <tr>\n",
       "      <th>0</th>\n",
       "      <td>Женский</td>\n",
       "      <td>22</td>\n",
       "      <td>Холерик</td>\n",
       "      <td>Кофе</td>\n",
       "      <td>Периодически</td>\n",
       "      <td>NaN</td>\n",
       "      <td>Очень часто</td>\n",
       "      <td>NaN</td>\n",
       "      <td>10</td>\n",
       "      <td>Нет</td>\n",
       "      <td>...</td>\n",
       "      <td>Весна</td>\n",
       "      <td>NaN</td>\n",
       "      <td>Чай и кофе</td>\n",
       "      <td>NaN</td>\n",
       "      <td>Холодные</td>\n",
       "      <td>NaN</td>\n",
       "      <td>Нет</td>\n",
       "      <td>0</td>\n",
       "      <td>0</td>\n",
       "      <td>NaN</td>\n",
       "    </tr>\n",
       "    <tr>\n",
       "      <th>1</th>\n",
       "      <td>Мужской</td>\n",
       "      <td>22</td>\n",
       "      <td>Холерик</td>\n",
       "      <td>Чай</td>\n",
       "      <td>Часто</td>\n",
       "      <td>NaN</td>\n",
       "      <td>Очень часто</td>\n",
       "      <td>NaN</td>\n",
       "      <td>6</td>\n",
       "      <td>Да</td>\n",
       "      <td>...</td>\n",
       "      <td>Весна</td>\n",
       "      <td>NaN</td>\n",
       "      <td>Чай</td>\n",
       "      <td>NaN</td>\n",
       "      <td>Холодные</td>\n",
       "      <td>NaN</td>\n",
       "      <td>Да</td>\n",
       "      <td>0</td>\n",
       "      <td>0</td>\n",
       "      <td>NaN</td>\n",
       "    </tr>\n",
       "    <tr>\n",
       "      <th>2</th>\n",
       "      <td>Мужской</td>\n",
       "      <td>22</td>\n",
       "      <td>Меланхолик</td>\n",
       "      <td>Кофе</td>\n",
       "      <td>Очень редко</td>\n",
       "      <td>NaN</td>\n",
       "      <td>Часто</td>\n",
       "      <td>NaN</td>\n",
       "      <td>6</td>\n",
       "      <td>Нет</td>\n",
       "      <td>...</td>\n",
       "      <td>Весна</td>\n",
       "      <td>NaN</td>\n",
       "      <td>Кофе</td>\n",
       "      <td>NaN</td>\n",
       "      <td>Холодные</td>\n",
       "      <td>NaN</td>\n",
       "      <td>Нет</td>\n",
       "      <td>0</td>\n",
       "      <td>0</td>\n",
       "      <td>NaN</td>\n",
       "    </tr>\n",
       "    <tr>\n",
       "      <th>3</th>\n",
       "      <td>Мужской</td>\n",
       "      <td>22</td>\n",
       "      <td>Флегматик</td>\n",
       "      <td>Чай</td>\n",
       "      <td>Часто</td>\n",
       "      <td>NaN</td>\n",
       "      <td>Очень редко</td>\n",
       "      <td>NaN</td>\n",
       "      <td>6</td>\n",
       "      <td>Нет</td>\n",
       "      <td>...</td>\n",
       "      <td>Лето</td>\n",
       "      <td>NaN</td>\n",
       "      <td>Чай и кофе</td>\n",
       "      <td>NaN</td>\n",
       "      <td>Холодные</td>\n",
       "      <td>NaN</td>\n",
       "      <td>Нет</td>\n",
       "      <td>0</td>\n",
       "      <td>0</td>\n",
       "      <td>NaN</td>\n",
       "    </tr>\n",
       "    <tr>\n",
       "      <th>4</th>\n",
       "      <td>Мужской</td>\n",
       "      <td>21</td>\n",
       "      <td>Флегматик</td>\n",
       "      <td>Чай</td>\n",
       "      <td>Часто</td>\n",
       "      <td>NaN</td>\n",
       "      <td>Редко</td>\n",
       "      <td>NaN</td>\n",
       "      <td>8</td>\n",
       "      <td>Нет</td>\n",
       "      <td>...</td>\n",
       "      <td>Осень</td>\n",
       "      <td>NaN</td>\n",
       "      <td>Чай и кофе</td>\n",
       "      <td>NaN</td>\n",
       "      <td>Горячие</td>\n",
       "      <td>NaN</td>\n",
       "      <td>Нет</td>\n",
       "      <td>0</td>\n",
       "      <td>0</td>\n",
       "      <td>NaN</td>\n",
       "    </tr>\n",
       "  </tbody>\n",
       "</table>\n",
       "<p>5 rows × 36 columns</p>\n",
       "</div>"
      ],
      "text/plain": [
       "   Ваш пол  Возраст    Характер Что вы предпочитаете?  \\\n",
       "0  Женский       22     Холерик                  Кофе   \n",
       "1  Мужской       22     Холерик                   Чай   \n",
       "2  Мужской       22  Меланхолик                  Кофе   \n",
       "3  Мужской       22   Флегматик                   Чай   \n",
       "4  Мужской       21   Флегматик                   Чай   \n",
       "\n",
       "  Как часто вы берете инициативу в свои руки?  \\\n",
       "0                                Периодически   \n",
       "1                                       Часто   \n",
       "2                                 Очень редко   \n",
       "3                                       Часто   \n",
       "4                                       Часто   \n",
       "\n",
       "   Как часто вы берете инициативу в свои руки? / Баллы  \\\n",
       "0                                                NaN     \n",
       "1                                                NaN     \n",
       "2                                                NaN     \n",
       "3                                                NaN     \n",
       "4                                                NaN     \n",
       "\n",
       "  Как часто вы пропускаете завтраки?  \\\n",
       "0                        Очень часто   \n",
       "1                        Очень часто   \n",
       "2                              Часто   \n",
       "3                        Очень редко   \n",
       "4                              Редко   \n",
       "\n",
       "   Как часто вы пропускаете завтраки? / Баллы  Сколько спите ночью в среднем  \\\n",
       "0                                         NaN                             10   \n",
       "1                                         NaN                              6   \n",
       "2                                         NaN                              6   \n",
       "3                                         NaN                              6   \n",
       "4                                         NaN                              8   \n",
       "\n",
       "  Гипертония  ... Любимое время года? Любимое время года? / Баллы  \\\n",
       "0        Нет  ...               Весна                         NaN   \n",
       "1         Да  ...               Весна                         NaN   \n",
       "2        Нет  ...               Весна                         NaN   \n",
       "3        Нет  ...                Лето                         NaN   \n",
       "4        Нет  ...               Осень                         NaN   \n",
       "\n",
       "  Что пьют родители Что пьют родители / Баллы Какие напитки любите  \\\n",
       "0        Чай и кофе                       NaN             Холодные   \n",
       "1               Чай                       NaN             Холодные   \n",
       "2              Кофе                       NaN             Холодные   \n",
       "3        Чай и кофе                       NaN             Холодные   \n",
       "4        Чай и кофе                       NaN              Горячие   \n",
       "\n",
       "  Какие напитки любите / Баллы Азартен?  Набрано баллов Всего баллов  \\\n",
       "0                          NaN      Нет               0            0   \n",
       "1                          NaN       Да               0            0   \n",
       "2                          NaN      Нет               0            0   \n",
       "3                          NaN      Нет               0            0   \n",
       "4                          NaN      Нет               0            0   \n",
       "\n",
       "  Результат теста  \n",
       "0             NaN  \n",
       "1             NaN  \n",
       "2             NaN  \n",
       "3             NaN  \n",
       "4             NaN  \n",
       "\n",
       "[5 rows x 36 columns]"
      ]
     },
     "execution_count": 9,
     "metadata": {},
     "output_type": "execute_result"
    }
   ],
   "source": [
    "df.head()"
   ]
  },
  {
   "cell_type": "code",
   "execution_count": 7,
   "metadata": {},
   "outputs": [
    {
     "name": "stdout",
     "output_type": "stream",
     "text": [
      "<class 'pandas.core.frame.DataFrame'>\n",
      "RangeIndex: 38 entries, 0 to 37\n",
      "Data columns (total 36 columns):\n",
      " #   Column                                               Non-Null Count  Dtype  \n",
      "---  ------                                               --------------  -----  \n",
      " 0   Ваш пол                                              38 non-null     object \n",
      " 1   Возраст                                              38 non-null     int64  \n",
      " 2   Характер                                             38 non-null     object \n",
      " 3   Что вы предпочитаете?                                38 non-null     object \n",
      " 4   Как часто вы берете инициативу в свои руки?          38 non-null     object \n",
      " 5   Как часто вы берете инициативу в свои руки? / Баллы  0 non-null      float64\n",
      " 6   Как часто вы пропускаете завтраки?                   38 non-null     object \n",
      " 7   Как часто вы пропускаете завтраки? / Баллы           0 non-null      float64\n",
      " 8   Сколько спите ночью в среднем                        38 non-null     int64  \n",
      " 9   Гипертония                                           38 non-null     object \n",
      " 10  Курите?                                              38 non-null     object \n",
      " 11  Пьете энергетики?                                    38 non-null     object \n",
      " 12  Бывают ли проблемы со сном?                          38 non-null     object \n",
      " 13  Повышенная тревожность?                              38 non-null     object \n",
      " 14  Проблемы с концентрацией                             38 non-null     object \n",
      " 15  Наличие кофейни возле дома                           38 non-null     object \n",
      " 16  Какая культура ближе                                 38 non-null     object \n",
      " 17  Какая культура ближе / Баллы                         0 non-null      float64\n",
      " 18  Любишь ли горькое                                    38 non-null     object \n",
      " 19  Занимаетесь спортом?                                 38 non-null     object \n",
      " 20  Выпиваете алкоголь                                   38 non-null     object \n",
      " 21  Выпиваете алкоголь / Баллы                           0 non-null      float64\n",
      " 22  Время подъема                                        38 non-null     int64  \n",
      " 23  Формат работы                                        38 non-null     object \n",
      " 24  Формат работы / Баллы                                0 non-null      float64\n",
      " 25  Любите сладкое?                                      38 non-null     object \n",
      " 26  Любимое время года?                                  38 non-null     object \n",
      " 27  Любимое время года? / Баллы                          0 non-null      float64\n",
      " 28  Что пьют родители                                    38 non-null     object \n",
      " 29  Что пьют родители / Баллы                            0 non-null      float64\n",
      " 30  Какие напитки любите                                 38 non-null     object \n",
      " 31  Какие напитки любите / Баллы                         0 non-null      float64\n",
      " 32  Азартен?                                             38 non-null     object \n",
      " 33  Набрано баллов                                       38 non-null     int64  \n",
      " 34  Всего баллов                                         38 non-null     int64  \n",
      " 35  Результат теста                                      0 non-null      float64\n",
      "dtypes: float64(9), int64(5), object(22)\n",
      "memory usage: 10.8+ KB\n"
     ]
    }
   ],
   "source": [
    "df.info()"
   ]
  },
  {
   "cell_type": "code",
   "execution_count": 11,
   "metadata": {},
   "outputs": [],
   "source": [
    "# Выбор необходимых столбцов: возраст, характер, предпочтения\n",
    "df_selected = df[['Возраст', 'Характер', 'Что вы предпочитаете?']].copy()\n"
   ]
  },
  {
   "cell_type": "code",
   "execution_count": 13,
   "metadata": {},
   "outputs": [],
   "source": [
    "# Преобразование текстовых меток в числовые значения (0: Чай, 1: Кофе)\n",
    "df_selected['Что вы предпочитаете?'] = df_selected['Что вы предпочитаете?'].apply(lambda x: 0 if x == 'Чай' else 1)"
   ]
  },
  {
   "cell_type": "code",
   "execution_count": 15,
   "metadata": {},
   "outputs": [],
   "source": [
    "# Преобразование 'Характер' в числовые значения\n",
    "character_mapping = {\n",
    "    'Холерик': 0,\n",
    "    'Меланхолик': 1,\n",
    "    'Флегматик': 2,\n",
    "    'Сангвиник': 3\n",
    "}\n",
    "df_selected['Характер'] = df_selected['Характер'].map(character_mapping)"
   ]
  },
  {
   "cell_type": "code",
   "execution_count": 17,
   "metadata": {},
   "outputs": [
    {
     "data": {
      "text/html": [
       "<div>\n",
       "<style scoped>\n",
       "    .dataframe tbody tr th:only-of-type {\n",
       "        vertical-align: middle;\n",
       "    }\n",
       "\n",
       "    .dataframe tbody tr th {\n",
       "        vertical-align: top;\n",
       "    }\n",
       "\n",
       "    .dataframe thead th {\n",
       "        text-align: right;\n",
       "    }\n",
       "</style>\n",
       "<table border=\"1\" class=\"dataframe\">\n",
       "  <thead>\n",
       "    <tr style=\"text-align: right;\">\n",
       "      <th></th>\n",
       "      <th>Возраст</th>\n",
       "      <th>Характер</th>\n",
       "      <th>Что вы предпочитаете?</th>\n",
       "    </tr>\n",
       "  </thead>\n",
       "  <tbody>\n",
       "    <tr>\n",
       "      <th>0</th>\n",
       "      <td>22</td>\n",
       "      <td>0</td>\n",
       "      <td>1</td>\n",
       "    </tr>\n",
       "    <tr>\n",
       "      <th>1</th>\n",
       "      <td>22</td>\n",
       "      <td>0</td>\n",
       "      <td>0</td>\n",
       "    </tr>\n",
       "    <tr>\n",
       "      <th>2</th>\n",
       "      <td>22</td>\n",
       "      <td>1</td>\n",
       "      <td>1</td>\n",
       "    </tr>\n",
       "    <tr>\n",
       "      <th>3</th>\n",
       "      <td>22</td>\n",
       "      <td>2</td>\n",
       "      <td>0</td>\n",
       "    </tr>\n",
       "    <tr>\n",
       "      <th>4</th>\n",
       "      <td>21</td>\n",
       "      <td>2</td>\n",
       "      <td>0</td>\n",
       "    </tr>\n",
       "  </tbody>\n",
       "</table>\n",
       "</div>"
      ],
      "text/plain": [
       "   Возраст  Характер  Что вы предпочитаете?\n",
       "0       22         0                      1\n",
       "1       22         0                      0\n",
       "2       22         1                      1\n",
       "3       22         2                      0\n",
       "4       21         2                      0"
      ]
     },
     "execution_count": 17,
     "metadata": {},
     "output_type": "execute_result"
    }
   ],
   "source": [
    "# Удаление строк с пропусками (если есть)\n",
    "df_selected.dropna(inplace=True)\n",
    "\n",
    "# Отобразим первые строки обработанного DataFrame\n",
    "df_selected.head()"
   ]
  },
  {
   "cell_type": "markdown",
   "metadata": {
    "id": "ggoWTUTLJyT9"
   },
   "source": [
    "**Шаг 2: Реализация метода K-ближайших соседей (KNN)**\n",
    "\n",
    "Здесь мы реализуем две функции: одну для вычисления расстояния между точками, и вторую для предсказания метки на основе K-ближайших соседей."
   ]
  },
  {
   "cell_type": "code",
   "execution_count": 20,
   "metadata": {
    "id": "vF73yvp6J1Uh"
   },
   "outputs": [],
   "source": [
    "import numpy as np\n",
    "\n",
    "# Функция для вычисления евклидова расстояния между двумя точками\n",
    "def euclidean_distance(point1, point2):\n",
    "    return np.sqrt(np.sum((point1 - point2) ** 2))\n",
    "\n",
    "# Функция для предсказания с использованием KNN\n",
    "def knn_predict(training_data, training_labels, test_point, k):\n",
    "    distances = []\n",
    "\n",
    "    # Вычисление расстояния между тестовой точкой и всеми точками обучающей выборки\n",
    "    for i in range(len(training_data)):\n",
    "        distance = euclidean_distance(training_data[i], test_point)\n",
    "        distances.append((distance, training_labels[i]))\n",
    "\n",
    "    # Сортировка списка по расстоянию\n",
    "    distances.sort(key=lambda x: x[0])\n",
    "\n",
    "    # Выбор k ближайших соседей\n",
    "    nearest_neighbors = distances[:k]\n",
    "\n",
    "    # Голосование за метку\n",
    "    votes = [neighbor[1] for neighbor in nearest_neighbors]\n",
    "\n",
    "    # Определение предсказанной метки\n",
    "    prediction = max(set(votes), key=votes.count)\n",
    "    return prediction\n"
   ]
  },
  {
   "cell_type": "markdown",
   "metadata": {
    "id": "r3ZbRj-GKDKs"
   },
   "source": [
    "**Шаг 3: Разделение данных на обучающую и тестовую выборки**\n",
    "\n",
    "Здесь мы делим данные на обучающую (80%) и тестовую (20%) выборки вручную для оценки модели.\n"
   ]
  },
  {
   "cell_type": "code",
   "execution_count": 23,
   "metadata": {
    "id": "ZZY1K4YDKGnZ"
   },
   "outputs": [],
   "source": [
    "# Подготовка данных для обучения и тестирования\n",
    "data_values = df_selected[['Возраст', 'Характер']].values\n",
    "labels = df_selected['Что вы предпочитаете?'].values\n",
    "\n",
    "# Разделение данных (80% - обучение, 20% - тест)\n",
    "train_size = int(0.8 * len(data_values))\n",
    "X_train, X_test = data_values[:train_size], data_values[train_size:]\n",
    "y_train, y_test = labels[:train_size], labels[train_size:]"
   ]
  },
  {
   "cell_type": "markdown",
   "metadata": {
    "id": "9M1cvhk5KZJi"
   },
   "source": [
    "**Шаг 4: Оценка модели и поиск оптимального значения k**\n"
   ]
  },
  {
   "cell_type": "code",
   "execution_count": 28,
   "metadata": {
    "colab": {
     "base_uri": "https://localhost:8080/",
     "height": 796
    },
    "id": "rlaLBifdKbtp",
    "outputId": "88761bfe-b58f-4c11-d2de-b7b922befe7a"
   },
   "outputs": [
    {
     "name": "stdout",
     "output_type": "stream",
     "text": [
      "Точность при k=1: 0.5\n",
      "Точность при k=2: 0.5\n",
      "Точность при k=3: 0.625\n",
      "Точность при k=4: 0.5\n",
      "Точность при k=5: 0.5\n",
      "Точность при k=6: 0.5\n",
      "Точность при k=7: 0.375\n",
      "Точность при k=8: 0.5\n",
      "Точность при k=9: 0.5\n",
      "Точность при k=10: 0.625\n",
      "Точность при k=11: 0.5\n",
      "Точность при k=12: 0.625\n",
      "Оптимальное значение k: 3 с точностью: 0.625\n"
     ]
    },
    {
     "data": {
      "image/png": "[encoded data removed]",
      "text/plain": [
       "<Figure size 1000x600 with 1 Axes>"
      ]
     },
     "metadata": {},
     "output_type": "display_data"
    }
   ],
   "source": [
    "import matplotlib.pyplot as plt\n",
    "\n",
    "# Функция для оценки точности модели KNN\n",
    "def evaluate_knn(k):\n",
    "    correct_predictions = 0\n",
    "\n",
    "    # Предсказание для каждой точки в тестовой выборке\n",
    "    for i in range(len(X_test)):\n",
    "        prediction = knn_predict(X_train, y_train, X_test[i], k)\n",
    "        if prediction == y_test[i]:\n",
    "            correct_predictions += 1\n",
    "\n",
    "    # Вычисление точности\n",
    "    accuracy = correct_predictions / len(X_test)\n",
    "    return accuracy\n",
    "\n",
    "# Поиск оптимального значения k (от 1 до 12) и сбор данных для графика\n",
    "best_k = 1\n",
    "best_accuracy = 0\n",
    "accuracies = []\n",
    "\n",
    "for k in range(1, 13):\n",
    "    accuracy = evaluate_knn(k)\n",
    "    accuracies.append(accuracy)\n",
    "    print(f\"Точность при k={k}: {accuracy}\")\n",
    "\n",
    "    if accuracy > best_accuracy:\n",
    "        best_accuracy = accuracy\n",
    "        best_k = k\n",
    "\n",
    "print(f\"Оптимальное значение k: {best_k} с точностью: {best_accuracy}\")\n",
    "\n",
    "# Визуализация графика точности для разных значений k\n",
    "plt.figure(figsize=(10, 6))\n",
    "plt.plot(range(1, 13), accuracies, marker='o', linestyle='-', color='b')\n",
    "plt.title('Точность модели KNN при различных значениях k')\n",
    "plt.xlabel('Значение k')\n",
    "plt.ylabel('Точность')\n",
    "plt.xticks(range(1, 13))\n",
    "plt.grid(True)\n",
    "plt.show()\n"
   ]
  },
  {
   "cell_type": "markdown",
   "metadata": {
    "id": "FzuD1hW9MfTX"
   },
   "source": [
    "После анализа графика и выводов кода, оптимальное значение в данном случае — k=3. Это значение выбирается, потому что оно обеспечивает наилучшую точность модели на тестовой выборке.\n",
    "Таким образом, выбираем k=3, так как оно обеспечивает максимальную точность в данном наборе данных. При равной точности k =10, k =12, наименьшее значение k считается лучшим выбором, так как оно делает модель более гибкой, простой, и быстродействующей."
   ]
  },
  {
   "cell_type": "markdown",
   "metadata": {
    "id": "pvafocgwMpKv"
   },
   "source": [
    "**Шаг 5: Построение матрицы ошибок и расчет метрик**"
   ]
  },
  {
   "cell_type": "code",
   "execution_count": 32,
   "metadata": {
    "colab": {
     "base_uri": "https://localhost:8080/",
     "height": 594
    },
    "id": "ZMp-ZzRmMrXD",
    "outputId": "6885416d-c952-4db8-d2f0-21665b3eb229"
   },
   "outputs": [
    {
     "data": {
      "image/png": "[encoded data removed]",
      "text/plain": [
       "<Figure size 600x500 with 1 Axes>"
      ]
     },
     "metadata": {},
     "output_type": "display_data"
    },
    {
     "name": "stdout",
     "output_type": "stream",
     "text": [
      "              Precision    Recall  F1-score  Support\n",
      "Coffee (1)      0.50000  0.666667  0.571429      3.0\n",
      "Tea (0)         0.75000  0.600000  0.666667      5.0\n",
      "accuracy        0.62500  0.625000  0.625000      8.0\n",
      "macro avg       0.62500  0.633333  0.619048      8.0\n",
      "weighted avg    0.65625  0.625000  0.630952      8.0\n"
     ]
    }
   ],
   "source": [
    "# Импорт необходимых модулей\n",
    "import numpy as np\n",
    "import pandas as pd\n",
    "import seaborn as sns\n",
    "import matplotlib.pyplot as plt\n",
    "\n",
    "# Функция для построения матрицы ошибок\n",
    "def confusion_matrix_knn(k):\n",
    "    TP = 0  # True Positive\n",
    "    TN = 0  # True Negative\n",
    "    FP = 0  # False Positive\n",
    "    FN = 0  # False Negative\n",
    "\n",
    "    # Подсчет значений для матрицы ошибок\n",
    "    for i in range(len(X_test)):\n",
    "        prediction = knn_predict(X_train, y_train, X_test[i], k)\n",
    "        actual = y_test[i]\n",
    "\n",
    "        if prediction == 1 and actual == 1:\n",
    "            TP += 1  # Истинно положительные\n",
    "        elif prediction == 0 and actual == 0:\n",
    "            TN += 1  # Истинно отрицательные\n",
    "        elif prediction == 1 and actual == 0:\n",
    "            FP += 1  # Ложно положительные\n",
    "        elif prediction == 0 and actual == 1:\n",
    "            FN += 1  # Ложно отрицательные\n",
    "\n",
    "    # Создание матрицы ошибок\n",
    "    confusion_matrix = np.array([[TP, FP],\n",
    "                                 [FN, TN]])\n",
    "    return confusion_matrix\n",
    "\n",
    "# Функция для расчета метрик Precision, Recall, F1-score и Support с обновленными именами классов\n",
    "def calculate_metrics_with_names(conf_matrix):\n",
    "    TP = conf_matrix[0, 0]\n",
    "    FP = conf_matrix[0, 1]\n",
    "    FN = conf_matrix[1, 0]\n",
    "    TN = conf_matrix[1, 1]\n",
    "\n",
    "    # Precision, Recall, и F1-score для класса \"Coffee\" (1)\n",
    "    precision_coffee = TP / (TP + FP) if (TP + FP) != 0 else 0\n",
    "    recall_coffee = TP / (TP + FN) if (TP + FN) != 0 else 0\n",
    "    f1_coffee = 2 * (precision_coffee * recall_coffee) / (precision_coffee + recall_coffee) if (precision_coffee + recall_coffee) != 0 else 0\n",
    "    support_coffee = TP + FN\n",
    "\n",
    "    # Precision, Recall, и F1-score для класса \"Tea\" (0)\n",
    "    precision_tea = TN / (TN + FN) if (TN + FN) != 0 else 0\n",
    "    recall_tea = TN / (TN + FP) if (TN + FP) != 0 else 0\n",
    "    f1_tea = 2 * (precision_tea * recall_tea) / (precision_tea + recall_tea) if (precision_tea + recall_tea) != 0 else 0\n",
    "    support_tea = TN + FP\n",
    "\n",
    "    # Сбор всех метрик в словарь\n",
    "    metrics = {\n",
    "        \"Coffee (1)\": {\n",
    "            \"Precision\": precision_coffee,\n",
    "            \"Recall\": recall_coffee,\n",
    "            \"F1-score\": f1_coffee,\n",
    "            \"Support\": support_coffee\n",
    "        },\n",
    "        \"Tea (0)\": {\n",
    "            \"Precision\": precision_tea,\n",
    "            \"Recall\": recall_tea,\n",
    "            \"F1-score\": f1_tea,\n",
    "            \"Support\": support_tea\n",
    "        }\n",
    "    }\n",
    "\n",
    "    return metrics\n",
    "\n",
    "# Функция для расчета точности (Accuracy)\n",
    "def calculate_accuracy(conf_matrix):\n",
    "    TP = conf_matrix[0, 0]\n",
    "    TN = conf_matrix[1, 1]\n",
    "    total_predictions = np.sum(conf_matrix)\n",
    "\n",
    "    # Расчет точности\n",
    "    accuracy = (TP + TN) / total_predictions\n",
    "    return accuracy\n",
    "\n",
    "# Функция для создания итоговой таблицы с добавлением accuracy, macro avg и weighted avg\n",
    "def create_detailed_summary_table(metrics, accuracy):\n",
    "    # Преобразование метрик в DataFrame\n",
    "    metrics_df = pd.DataFrame(metrics).T\n",
    "\n",
    "    # Расчет макро-среднего (macro avg)\n",
    "    macro_avg = metrics_df[['Precision', 'Recall', 'F1-score']].mean()\n",
    "\n",
    "    # Расчет взвешенного среднего (weighted avg)\n",
    "    weighted_avg = (metrics_df[['Precision', 'Recall', 'F1-score']].mul(metrics_df['Support'], axis=0).sum() / metrics_df['Support'].sum())\n",
    "\n",
    "    # Добавление строки с общей точностью (accuracy)\n",
    "    accuracy_row = pd.Series({'Precision': accuracy, 'Recall': accuracy, 'F1-score': accuracy, 'Support': metrics_df['Support'].sum()}, name='accuracy')\n",
    "\n",
    "    # Добавление строк для макро- и взвешенного среднего\n",
    "    macro_avg_row = pd.Series({'Precision': macro_avg['Precision'],\n",
    "                               'Recall': macro_avg['Recall'],\n",
    "                               'F1-score': macro_avg['F1-score'],\n",
    "                               'Support': metrics_df['Support'].sum()}, name='macro avg')\n",
    "\n",
    "    weighted_avg_row = pd.Series({'Precision': weighted_avg['Precision'],\n",
    "                                  'Recall': weighted_avg['Recall'],\n",
    "                                  'F1-score': weighted_avg['F1-score'],\n",
    "                                  'Support': metrics_df['Support'].sum()}, name='weighted avg')\n",
    "\n",
    "    # Объединение всех строк в итоговую таблицу\n",
    "    summary_df = pd.concat([metrics_df, accuracy_row.to_frame().T, macro_avg_row.to_frame().T, weighted_avg_row.to_frame().T])\n",
    "\n",
    "    return summary_df\n",
    "\n",
    "# Построение матрицы ошибок для оптимального k = 3\n",
    "best_k = 3\n",
    "# Предполагается, что X_train, y_train, X_test, y_test и knn_predict уже определены в рабочем окружении\n",
    "conf_matrix = confusion_matrix_knn(best_k)\n",
    "\n",
    "# Визуализация матрицы ошибок с обновленными именами классов\n",
    "plt.figure(figsize=(6, 5))\n",
    "sns.heatmap(conf_matrix, annot=True, fmt='d', cmap='Blues', cbar=False, linecolor='red', linewidths=1)\n",
    "plt.title(f'Матрица ошибок для k = {best_k}')\n",
    "plt.xlabel('Фактические')\n",
    "plt.ylabel('Предсказанные')\n",
    "plt.xticks([0.5, 1.5], ['Coffee (1)', 'Tea (0)'])\n",
    "plt.yticks([0.5, 1.5], ['Coffee (1)', 'Tea (0)'])\n",
    "plt.show()\n",
    "\n",
    "# Расчет метрик и точности\n",
    "metrics = calculate_metrics_with_names(conf_matrix)\n",
    "accuracy = calculate_accuracy(conf_matrix)\n",
    "\n",
    "# Создание подробной таблицы\n",
    "detailed_summary_table = create_detailed_summary_table(metrics, accuracy)\n",
    "\n",
    "# Вывод подробной таблицы\n",
    "print(detailed_summary_table)\n"
   ]
  },
  {
   "cell_type": "markdown",
   "metadata": {
    "id": "YpjbdCDPfOTs"
   },
   "source": [
    "Модель KNN с параметром k=3 показала следующие результаты:\n",
    "\n",
    "Правильно предсказанные случаи для \"Coffee\": 2.\n",
    "Неправильно предсказанные случаи, когда \"Coffee\" был классифицирован как \"Tea\": 2.\n",
    "Правильно предсказанные случаи для \"Tea\": 3.\n",
    "Ошибок, когда \"Tea\" был классифицирован как \"Coffee\": 1.\n",
    "Замечание:\n",
    "Анализ матрицы ошибок показывает, что модель имеет небольшие затруднения в классификации \"Coffee\", так как в 2 случаях модель ошибочно классифицировала \"Coffee\" как \"Tea\". Однако, она немного лучше справляется с классификацией \"Tea\", правильно предсказав 3 из 4 случаев, допуская всего 1 ошибку, когда \"Tea\" был классифицирован как \"Coffee\"."
   ]
  },
  {
   "cell_type": "markdown",
   "metadata": {
    "id": "WXGMgviUfQyS"
   },
   "source": [
    "**Шаг 6: Заключение**"
   ]
  },
  {
   "cell_type": "markdown",
   "metadata": {
    "id": "GxuL6gF7f7Go"
   },
   "source": [
    "Модель K-ближайших соседей (KNN) с оптимальным значением\n",
    "k=3 достигла умеренной производительности на данном наборе данных. Матрица ошибок, метрики precision, recall и F1-score позволяют оценить, насколько эффективно модель классифицирует два класса (\"Coffee\" и \"Tea\"). Несмотря на приемлемую точность, результаты показывают, что модель может быть улучшена, чтобы достичь лучшего баланса между точностью и полнотой. Для дальнейшего повышения эффективности можно использовать другие методы предобработки данных и альтернативные алгоритмы классификации."
   ]
  }
 ],
 "metadata": {
  "colab": {
   "authorship_tag": "ABX9TyN7z/pH7xFsjQhH+UOmXgty",
   "include_colab_link": true,
   "provenance": []
  },
  "kernelspec": {
   "display_name": "Python [conda env:base] *",
   "language": "python",
   "name": "conda-base-py"
  },
  "language_info": {
   "codemirror_mode": {
    "name": "ipython",
    "version": 3
   },
   "file_extension": ".py",
   "mimetype": "text/x-python",
   "name": "python",
   "nbconvert_exporter": "python",
   "pygments_lexer": "ipython3",
   "version": "3.12.7"
  }
 },
 "nbformat": 4,
 "nbformat_minor": 4
}
