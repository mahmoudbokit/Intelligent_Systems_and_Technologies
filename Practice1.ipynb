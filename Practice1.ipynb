{
 "cells": [
  {
   "cell_type": "code",
   "execution_count": 1,
   "id": "60811a2c-adc0-4a96-9d64-25839dd4d1af",
   "metadata": {},
   "outputs": [],
   "source": [
    "import numpy as np\n",
    "import pandas as pd"
   ]
  },
  {
   "cell_type": "code",
   "execution_count": 2,
   "id": "fde1ce51-3f18-4e75-8f29-9ce4941f3f08",
   "metadata": {},
   "outputs": [],
   "source": [
    "# Генерация фиктивных данных\n",
    "np.random.seed(42) # Для воспроизводимости"
   ]
  },
  {
   "cell_type": "code",
   "execution_count": 3,
   "id": "1c9fdfaf-bb44-4b51-af26-110f6931ed6b",
   "metadata": {},
   "outputs": [],
   "source": [
    "# Количество данных\n",
    "n_samples = 100"
   ]
  },
  {
   "cell_type": "code",
   "execution_count": 4,
   "id": "c0460b4c-18d4-4334-89d9-0afcfa6f18f9",
   "metadata": {},
   "outputs": [],
   "source": [
    "# Атрибуты : возраст (18-60 лет), время пробуждения (с 5 до 9 утра), продолжительность сна (с 4 до 10 часов)\n",
    "ages = np.random.randint(18, 60, n_samples)\n",
    "wake_up_times = np.random.uniform(5.0, 9.0, n_samples)\n",
    "sleep_durations = np.random.uniform(4.0, 10.0, n_samples)"
   ]
  },
  {
   "cell_type": "code",
   "execution_count": 5,
   "id": "b061604a-e66c-4178-9184-b9e503aa5aa5",
   "metadata": {},
   "outputs": [],
   "source": [
    "# Генерировать ярлыки (чай или кофе) в соответствии с фиктивной логикой : \n",
    "# Кофе, если возраст > 30 или если просыпаюсь < 7 утра, чай, если нет\n",
    "labels = np.array([\n",
    "    \"Кофе\" if age > 30 or wake_up < 7.0 else \"Чай\"\n",
    "    for age, wake_up in zip(ages, wake_up_times)\n",
    "])"
   ]
  },
  {
   "cell_type": "code",
   "execution_count": 6,
   "id": "3908553a-5cf7-4d86-b8f4-6c2a7aada17d",
   "metadata": {},
   "outputs": [],
   "source": [
    "# Создать фрейм данных\n",
    "data = pd.DataFrame({\n",
    "    \"Возраст\": ages,\n",
    "    \"Время_пробуждения\": wake_up_times,\n",
    "    \"Продолжительность_сна\": sleep_durations,\n",
    "    \"Напиток\": labels\n",
    "})"
   ]
  },
  {
   "cell_type": "code",
   "execution_count": 8,
   "id": "e3bc7ea4-35a5-42f3-be98-ef14fe1a8fe3",
   "metadata": {},
   "outputs": [],
   "source": [
    "# Разделение на обучающие и тестовые данные (80/20)\n",
    "train_data = data.sample(frac = 0.8, random_state = 42)\n",
    "test_data = data.drop(train_data.index)"
   ]
  },
  {
   "cell_type": "code",
   "execution_count": 9,
   "id": "ba3f9475-5b48-4d6a-afd0-e501fda65c8c",
   "metadata": {},
   "outputs": [
    {
     "data": {
      "text/html": [
       "<div>\n",
       "<style scoped>\n",
       "    .dataframe tbody tr th:only-of-type {\n",
       "        vertical-align: middle;\n",
       "    }\n",
       "\n",
       "    .dataframe tbody tr th {\n",
       "        vertical-align: top;\n",
       "    }\n",
       "\n",
       "    .dataframe thead th {\n",
       "        text-align: right;\n",
       "    }\n",
       "</style>\n",
       "<table border=\"1\" class=\"dataframe\">\n",
       "  <thead>\n",
       "    <tr style=\"text-align: right;\">\n",
       "      <th></th>\n",
       "      <th>Возраст</th>\n",
       "      <th>Время_пробуждения</th>\n",
       "      <th>Продолжительность_сна</th>\n",
       "      <th>Напиток</th>\n",
       "    </tr>\n",
       "  </thead>\n",
       "  <tbody>\n",
       "    <tr>\n",
       "      <th>83</th>\n",
       "      <td>26</td>\n",
       "      <td>8.265727</td>\n",
       "      <td>5.771744</td>\n",
       "      <td>Чай</td>\n",
       "    </tr>\n",
       "    <tr>\n",
       "      <th>53</th>\n",
       "      <td>21</td>\n",
       "      <td>5.976502</td>\n",
       "      <td>9.185005</td>\n",
       "      <td>Кофе</td>\n",
       "    </tr>\n",
       "    <tr>\n",
       "      <th>70</th>\n",
       "      <td>57</td>\n",
       "      <td>7.537405</td>\n",
       "      <td>5.834182</td>\n",
       "      <td>Кофе</td>\n",
       "    </tr>\n",
       "    <tr>\n",
       "      <th>45</th>\n",
       "      <td>45</td>\n",
       "      <td>5.002082</td>\n",
       "      <td>7.539225</td>\n",
       "      <td>Кофе</td>\n",
       "    </tr>\n",
       "    <tr>\n",
       "      <th>44</th>\n",
       "      <td>37</td>\n",
       "      <td>7.590760</td>\n",
       "      <td>5.502771</td>\n",
       "      <td>Кофе</td>\n",
       "    </tr>\n",
       "  </tbody>\n",
       "</table>\n",
       "</div>"
      ],
      "text/plain": [
       "    Возраст  Время_пробуждения  Продолжительность_сна Напиток\n",
       "83       26           8.265727               5.771744     Чай\n",
       "53       21           5.976502               9.185005    Кофе\n",
       "70       57           7.537405               5.834182    Кофе\n",
       "45       45           5.002082               7.539225    Кофе\n",
       "44       37           7.590760               5.502771    Кофе"
      ]
     },
     "execution_count": 9,
     "metadata": {},
     "output_type": "execute_result"
    }
   ],
   "source": [
    "# Отображение первых строк обучающих данных\n",
    "train_data.head()"
   ]
  },
  {
   "cell_type": "code",
   "execution_count": 10,
   "id": "6141f349-67e5-43fa-b404-beb29afee491",
   "metadata": {},
   "outputs": [
    {
     "data": {
      "text/html": [
       "<div>\n",
       "<style scoped>\n",
       "    .dataframe tbody tr th:only-of-type {\n",
       "        vertical-align: middle;\n",
       "    }\n",
       "\n",
       "    .dataframe tbody tr th {\n",
       "        vertical-align: top;\n",
       "    }\n",
       "\n",
       "    .dataframe thead th {\n",
       "        text-align: right;\n",
       "    }\n",
       "</style>\n",
       "<table border=\"1\" class=\"dataframe\">\n",
       "  <thead>\n",
       "    <tr style=\"text-align: right;\">\n",
       "      <th></th>\n",
       "      <th>Возраст</th>\n",
       "      <th>Время_пробуждения</th>\n",
       "      <th>Продолжительность_сна</th>\n",
       "      <th>Напиток</th>\n",
       "    </tr>\n",
       "  </thead>\n",
       "  <tbody>\n",
       "    <tr>\n",
       "      <th>1</th>\n",
       "      <td>46</td>\n",
       "      <td>6.797803</td>\n",
       "      <td>5.254430</td>\n",
       "      <td>Кофе</td>\n",
       "    </tr>\n",
       "    <tr>\n",
       "      <th>2</th>\n",
       "      <td>32</td>\n",
       "      <td>5.381640</td>\n",
       "      <td>7.248688</td>\n",
       "      <td>Кофе</td>\n",
       "    </tr>\n",
       "    <tr>\n",
       "      <th>14</th>\n",
       "      <td>20</td>\n",
       "      <td>6.024273</td>\n",
       "      <td>5.673228</td>\n",
       "      <td>Кофе</td>\n",
       "    </tr>\n",
       "    <tr>\n",
       "      <th>20</th>\n",
       "      <td>19</td>\n",
       "      <td>8.583054</td>\n",
       "      <td>9.105571</td>\n",
       "      <td>Чай</td>\n",
       "    </tr>\n",
       "    <tr>\n",
       "      <th>21</th>\n",
       "      <td>38</td>\n",
       "      <td>6.901481</td>\n",
       "      <td>9.613810</td>\n",
       "      <td>Кофе</td>\n",
       "    </tr>\n",
       "  </tbody>\n",
       "</table>\n",
       "</div>"
      ],
      "text/plain": [
       "    Возраст  Время_пробуждения  Продолжительность_сна Напиток\n",
       "1        46           6.797803               5.254430    Кофе\n",
       "2        32           5.381640               7.248688    Кофе\n",
       "14       20           6.024273               5.673228    Кофе\n",
       "20       19           8.583054               9.105571     Чай\n",
       "21       38           6.901481               9.613810    Кофе"
      ]
     },
     "execution_count": 10,
     "metadata": {},
     "output_type": "execute_result"
    }
   ],
   "source": [
    "# Отображение первых строк тестовых данных\n",
    "test_data.head()"
   ]
  },
  {
   "cell_type": "code",
   "execution_count": 11,
   "id": "6520cdb3-6bc1-4927-a752-d26255fd0827",
   "metadata": {},
   "outputs": [],
   "source": [
    "# Реализация алгоритма k-NN с нуля\n",
    "# Функция для вычисления евклидова расстояния\n",
    "def euclidean_distance(p1, p2):\n",
    "    return np.sqrt(np.sum((p1 - p2)**2))"
   ]
  },
  {
   "cell_type": "code",
   "execution_count": 15,
   "id": "1dffad1e-8eae-4166-8d7b-ff620d167880",
   "metadata": {},
   "outputs": [],
   "source": [
    "# Реализация k-NN\n",
    "def k_nearest_neighbors(train_data, test_point, k):\n",
    "    # Извлечение числовых данных и меток\n",
    "    train_points = train_data[[\"Возраст\", \"Время_пробуждения\", \"Продолжительность_сна\"]].values\n",
    "    train_labels = train_data[\"Напиток\"].values\n",
    "    \n",
    "    # Рассчитать расстояния от контрольной точки до всех тренировочных точек\n",
    "    distances = [euclidean_distance(test_point, train_point) for train_point in train_points]\n",
    "    \n",
    "    # Найти индексы ближайших соседей k\n",
    "    k_indices = np.argsort(distances)[:k]\n",
    "    \n",
    "    # Получить метки из k ближайших соседей\n",
    "    k_labels = train_labels[k_indices]\n",
    "    \n",
    "    # Effectuer un vote majoritaire\n",
    "    prediction = pd.Series(k_labels).mode()[0]  # Класс большинства\n",
    "    return prediction"
   ]
  },
  {
   "cell_type": "code",
   "execution_count": 16,
   "id": "7dbbc7fd-e5d4-4321-966a-f41ccbadbfe7",
   "metadata": {},
   "outputs": [
    {
     "data": {
      "text/plain": [
       "('Кофе', 'Кофе')"
      ]
     },
     "execution_count": 16,
     "metadata": {},
     "output_type": "execute_result"
    }
   ],
   "source": [
    "# Протестировать алгоритм на одной контрольной точке\n",
    "test_point = test_data.iloc[0][[\"Возраст\", \"Время_пробуждения\", \"Продолжительность_сна\"]].values\n",
    "k = 3\n",
    "\n",
    "prediction = k_nearest_neighbors(train_data, test_point, k)\n",
    "actual_label = test_data.iloc[0][\"Напиток\"]\n",
    "\n",
    "prediction, actual_label"
   ]
  },
  {
   "cell_type": "code",
   "execution_count": 17,
   "id": "9c2f062b-706b-4869-92f3-5a3cce584957",
   "metadata": {},
   "outputs": [],
   "source": [
    "# Алгоритм k-NN успешно предсказал напиток для первой контрольной точки :\n",
    "    # Прогноз : Кофе\n",
    "    # Фактический ярлык : кофе"
   ]
  },
  {
   "cell_type": "code",
   "execution_count": 19,
   "id": "db649def-b181-4ac2-b34a-7df07e4d32ef",
   "metadata": {},
   "outputs": [],
   "source": [
    "# Расширить эту реализацию для прогнозирования меток для всего тестового набора и оценки производительности модели (например, точности)\n",
    "def evaluate_knn(train_data, test_data, k):\n",
    "    test_points = test_data[[\"Возраст\", \"Время_пробуждения\", \"Продолжительность_сна\"]].values\n",
    "    actual_labels = test_data[\"Напиток\"].values\n",
    "    \n",
    "    # Прогнозировать для каждой контрольной точки\n",
    "    predictions = [k_nearest_neighbors(train_data, test_point, k) for test_point in test_points]\n",
    "\n",
    "    # Рассчитать точность\n",
    "    accuracy = np.mean(np.array(predictions) == actual_labels)\n",
    "\n",
    "    return predictions, accuracy"
   ]
  },
  {
   "cell_type": "code",
   "execution_count": 20,
   "id": "fb5bcedb-37ad-4f2b-aa83-f78e1c0cc727",
   "metadata": {},
   "outputs": [
    {
     "data": {
      "text/plain": [
       "(['Кофе', 'Кофе', 'Кофе', 'Чай', 'Кофе'], 1.0)"
      ]
     },
     "execution_count": 20,
     "metadata": {},
     "output_type": "execute_result"
    }
   ],
   "source": [
    "# Оценить с помощью k = 3\n",
    "k = 3\n",
    "\n",
    "predictions, accuracy = evaluate_knn(train_data, test_data, k)\n",
    "\n",
    "predictions[:5], accuracy"
   ]
  },
  {
   "cell_type": "code",
   "execution_count": null,
   "id": "d9824d75-7b1c-4299-be3c-048c226c1080",
   "metadata": {},
   "outputs": [],
   "source": [
    "# Алгоритм k-NN был оценен на тестовом наборе с k = 3 :\n",
    "    # Прогнозы для первых 5 тестовых баллов: ['кофе', 'Кофе', 'Кофе', 'Чай', 'кофе']\n",
    "    # Общая точность на тестовом наборе : 100%\n",
    "\n",
    "# Это указывает на то, что для этого набора данных и этого выбора k модель k-NN идеально предсказала метки."
   ]
  }
 ],
 "metadata": {
  "kernelspec": {
   "display_name": "Python 3 (ipykernel)",
   "language": "python",
   "name": "python3"
  },
  "language_info": {
   "codemirror_mode": {
    "name": "ipython",
    "version": 3
   },
   "file_extension": ".py",
   "mimetype": "text/x-python",
   "name": "python",
   "nbconvert_exporter": "python",
   "pygments_lexer": "ipython3",
   "version": "3.11.4"
  }
 },
 "nbformat": 4,
 "nbformat_minor": 5
}
