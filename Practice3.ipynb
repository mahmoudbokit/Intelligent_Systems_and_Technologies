{
 "cells": [
  {
   "cell_type": "code",
   "execution_count": 17,
   "id": "d61eec59-c421-44d9-bc9d-5e7070f10a11",
   "metadata": {},
   "outputs": [],
   "source": [
    "import numpy as np\n",
    "import matplotlib.pyplot as plt\n",
    "import random"
   ]
  },
  {
   "cell_type": "code",
   "execution_count": 19,
   "id": "70bf16a5-251e-4977-bfd4-b519f0584faf",
   "metadata": {},
   "outputs": [],
   "source": [
    "# Параметры модели\n",
    "n = 15  # Размер квадрата n x n\n",
    "blue_percentage = 0.45\n",
    "red_percentage = 0.45\n",
    "empty_percentage = 0.10\n",
    "threshold = 2  # Порог счастья\n",
    "steps = 20  # Количество шагов моделирования"
   ]
  },
  {
   "cell_type": "code",
   "execution_count": 21,
   "id": "e2fefbb9-066e-4255-9077-f081ab670360",
   "metadata": {},
   "outputs": [],
   "source": [
    "# Инициализация поля\n",
    "def initialize_grid(n, blue_percentage, red_percentage, empty_percentage):\n",
    "    grid = np.zeros((n, n), dtype=int)\n",
    "    total_cells = n * n\n",
    "    blue_cells = int(total_cells * blue_percentage)\n",
    "    red_cells = int(total_cells * red_percentage)\n",
    "    empty_cells = total_cells - blue_cells - red_cells\n",
    "\n",
    "    cells = [1] * blue_cells + [2] * red_cells + [0] * empty_cells\n",
    "    random.shuffle(cells)\n",
    "\n",
    "    grid = np.array(cells).reshape(n, n)\n",
    "    return grid"
   ]
  },
  {
   "cell_type": "code",
   "execution_count": 23,
   "id": "0b85ef2c-28cb-4652-92e0-97b257709a83",
   "metadata": {},
   "outputs": [],
   "source": [
    "# Проверка счастья клетки\n",
    "def is_happy(grid, x, y, threshold):\n",
    "    color = grid[x, y]\n",
    "    if color == 0:  # Пустая клетка всегда счастлива\n",
    "        return True\n",
    "\n",
    "    neighbors = []\n",
    "    for i in range(-1, 2):\n",
    "        for j in range(-1, 2):\n",
    "            if i == 0 and j == 0:\n",
    "                continue\n",
    "            if 0 <= x + i < n and 0 <= y + j < n:\n",
    "                neighbors.append(grid[x + i, y + j])\n",
    "\n",
    "    same_color_neighbors = sum(1 for neighbor in neighbors if neighbor == color)\n",
    "    return same_color_neighbors >= threshold"
   ]
  },
  {
   "cell_type": "code",
   "execution_count": 25,
   "id": "87938d69-355a-42a2-b1df-215888690637",
   "metadata": {},
   "outputs": [],
   "source": [
    "# Моделирование\n",
    "def simulate(grid, steps, threshold):\n",
    "    for step in range(steps):\n",
    "        unhappy_cells = [(x, y) for x in range(n) for y in range(n) if\n",
    "                         not is_happy(grid, x, y, threshold) and grid[x, y] != 0]\n",
    "        if not unhappy_cells:\n",
    "            print(f\"Все клетки счастливы после {step} шагов.\")\n",
    "            break\n",
    "\n",
    "        x, y = random.choice(unhappy_cells)\n",
    "        empty_cells = [(i, j) for i in range(n) for j in range(n) if grid[i, j] == 0]\n",
    "        if empty_cells:\n",
    "            new_x, new_y = random.choice(empty_cells)\n",
    "            grid[new_x, new_y] = grid[x, y]\n",
    "            grid[x, y] = 0\n",
    "\n",
    "        if step % 10 == 0:\n",
    "            plot_grid(grid, step, threshold)"
   ]
  },
  {
   "cell_type": "code",
   "execution_count": 27,
   "id": "0f563dbd-e7cd-4766-9a84-ef3ea3f519da",
   "metadata": {},
   "outputs": [],
   "source": [
    "# Визуализация\n",
    "def plot_grid(grid, step, threshold):\n",
    "    # Создаем матрицу цветов для визуализации\n",
    "    color_grid = np.zeros((n, n, 3))  # RGB матрица\n",
    "\n",
    "    for i in range(n):\n",
    "        for j in range(n):\n",
    "            if grid[i, j] == 0:\n",
    "                color_grid[i, j] = [1, 1, 1]  # Белый для пустых клеток\n",
    "            elif is_happy(grid, i, j, threshold):\n",
    "                color_grid[i, j] = [0, 0, 1]  # Синий для счастливых\n",
    "            else:\n",
    "                color_grid[i, j] = [1, 0, 0]  # Красный для несчастливых\n",
    "\n",
    "    # Отображаем матрицу с цветами\n",
    "    plt.imshow(color_grid)\n",
    "    plt.title(f\"Шаг {step}\")\n",
    "    plt.axis('off')\n",
    "    plt.show()"
   ]
  },
  {
   "cell_type": "code",
   "execution_count": 29,
   "id": "a5e06f23-9108-4448-9234-3c317fda7083",
   "metadata": {},
   "outputs": [
    {
     "data": {
      "image/png": "[encoded data removed]",
      "text/plain": [
       "<Figure size 640x480 with 1 Axes>"
      ]
     },
     "metadata": {},
     "output_type": "display_data"
    },
    {
     "data": {
      "image/png": "[encoded data removed]",
      "text/plain": [
       "<Figure size 640x480 with 1 Axes>"
      ]
     },
     "metadata": {},
     "output_type": "display_data"
    },
    {
     "data": {
      "image/png": "[encoded data removed]",
      "text/plain": [
       "<Figure size 640x480 with 1 Axes>"
      ]
     },
     "metadata": {},
     "output_type": "display_data"
    }
   ],
   "source": [
    "# Инициализация и запуск моделирования\n",
    "grid = initialize_grid(n, blue_percentage, red_percentage, empty_percentage)\n",
    "simulate(grid, steps, threshold)\n",
    "plot_grid(grid, steps, threshold)"
   ]
  },
  {
   "cell_type": "code",
   "execution_count": null,
   "id": "3f6ac359-cf82-4caf-88c7-e1d4e4eec53b",
   "metadata": {},
   "outputs": [],
   "source": []
  }
 ],
 "metadata": {
  "kernelspec": {
   "display_name": "Python [conda env:base] *",
   "language": "python",
   "name": "conda-base-py"
  },
  "language_info": {
   "codemirror_mode": {
    "name": "ipython",
    "version": 3
   },
   "file_extension": ".py",
   "mimetype": "text/x-python",
   "name": "python",
   "nbconvert_exporter": "python",
   "pygments_lexer": "ipython3",
   "version": "3.12.7"
  }
 },
 "nbformat": 4,
 "nbformat_minor": 5
}
